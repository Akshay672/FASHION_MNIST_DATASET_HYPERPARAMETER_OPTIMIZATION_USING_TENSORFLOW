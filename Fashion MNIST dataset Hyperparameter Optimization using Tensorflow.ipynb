{
 "cells": [
  {
   "cell_type": "markdown",
   "id": "3555f418",
   "metadata": {},
   "source": [
    "## Fashion MNIST dataset Hyperparameter Optimization using Tensorflow"
   ]
  },
  {
   "cell_type": "markdown",
   "id": "0d85de43",
   "metadata": {},
   "source": [
    "<b>Fashion MNIST dataset</b>\n",
    "\n",
    "This is a dataset of 60,000 28x28 grayscale images of 10 fashion categories, along with a test set of 10,000 images. This dataset can be used as a drop-in replacement for MNIST.\n",
    "\n",
    "The classes are:\n",
    "\n",
    "Label and Description<br><br>\n",
    "0\tT-shirt/top<br>\n",
    "1\tTrouser<br>\n",
    "2\tPullover<br>\n",
    "3\tDress<br>\n",
    "4\tCoat<br>\n",
    "5\tSandal<br>\n",
    "6\tShirt<br>\n",
    "7\tSneaker<br>\n",
    "8\tBag<br>\n",
    "9\tAnkle boot<br>"
   ]
  },
  {
   "cell_type": "code",
   "execution_count": 133,
   "id": "6bf91ec4",
   "metadata": {},
   "outputs": [],
   "source": [
    "#importing libraries\n",
    "import numpy as np\n",
    "import pandas as pd\n",
    "import tensorflow as tf#tensorflow\n",
    "import matplotlib.pyplot as plt"
   ]
  },
  {
   "cell_type": "code",
   "execution_count": 134,
   "id": "84ac2d76",
   "metadata": {},
   "outputs": [],
   "source": [
    "import warnings\n",
    "warnings.filterwarnings('ignore')\n",
    "import random\n",
    "random.seed(0)"
   ]
  },
  {
   "cell_type": "code",
   "execution_count": 135,
   "id": "f2c1bda0",
   "metadata": {},
   "outputs": [
    {
     "data": {
      "text/plain": [
       "'2.5.0'"
      ]
     },
     "execution_count": 135,
     "metadata": {},
     "output_type": "execute_result"
    }
   ],
   "source": [
    "#checking the version of tensorflow\n",
    "tf.__version__"
   ]
  },
  {
   "cell_type": "code",
   "execution_count": 136,
   "id": "89d43bbf",
   "metadata": {},
   "outputs": [],
   "source": [
    "#Loading the mnist fashion Dataset"
   ]
  },
  {
   "cell_type": "code",
   "execution_count": 137,
   "id": "ba34833c",
   "metadata": {},
   "outputs": [],
   "source": [
    "from tensorflow.keras.datasets import fashion_mnist\n",
    "(x_train,y_train),(x_test,y_test)=fashion_mnist.load_data()"
   ]
  },
  {
   "cell_type": "code",
   "execution_count": 138,
   "id": "34712f83",
   "metadata": {},
   "outputs": [
    {
     "name": "stdout",
     "output_type": "stream",
     "text": [
      "(60000, 28, 28)\n",
      "(60000,)\n",
      "(10000, 28, 28)\n",
      "(10000,)\n"
     ]
    }
   ],
   "source": [
    "print(x_train.shape)#checkig the shape of the X_train\n",
    "print(y_train.shape)#checkig the shape of the y_train\n",
    "print(x_test.shape)#checkig the shape of the X_test\n",
    "print(y_test.shape)#checkig the shape of the y_test"
   ]
  },
  {
   "cell_type": "code",
   "execution_count": 139,
   "id": "c8e56006",
   "metadata": {},
   "outputs": [],
   "source": [
    "#lets comare an xtrain and ytrain sample"
   ]
  },
  {
   "cell_type": "code",
   "execution_count": 140,
   "id": "6e1c3aff",
   "metadata": {},
   "outputs": [
    {
     "name": "stdout",
     "output_type": "stream",
     "text": [
      "Label: 9\n"
     ]
    },
    {
     "data": {
      "text/plain": [
       "<matplotlib.image.AxesImage at 0x1ded2b579b0>"
      ]
     },
     "execution_count": 140,
     "metadata": {},
     "output_type": "execute_result"
    },
    {
     "data": {
      "image/png": "[encoded data removed]",
      "text/plain": [
       "<Figure size 432x288 with 1 Axes>"
      ]
     },
     "metadata": {
      "needs_background": "light"
     },
     "output_type": "display_data"
    }
   ],
   "source": [
    "print('Label:' , y_train[0])#9 is the Ankle boot\n",
    "plt.imshow(x_train[0])"
   ]
  },
  {
   "cell_type": "code",
   "execution_count": 141,
   "id": "23c3a3d7",
   "metadata": {},
   "outputs": [],
   "source": [
    "#Reshape train and test sets into compatible shapes"
   ]
  },
  {
   "cell_type": "code",
   "execution_count": 142,
   "id": "7e40d8df",
   "metadata": {},
   "outputs": [
    {
     "data": {
      "text/plain": [
       "(60000, 784)"
      ]
     },
     "execution_count": 142,
     "metadata": {},
     "output_type": "execute_result"
    }
   ],
   "source": [
    "x_train1=x_train.reshape(60000, 28*28)\n",
    "x_train1.shape"
   ]
  },
  {
   "cell_type": "code",
   "execution_count": 143,
   "id": "89056986",
   "metadata": {},
   "outputs": [
    {
     "data": {
      "text/plain": [
       "(10000, 784)"
      ]
     },
     "execution_count": 143,
     "metadata": {},
     "output_type": "execute_result"
    }
   ],
   "source": [
    "x_test1=x_test.reshape(10000, 28*28)\n",
    "x_test1.shape"
   ]
  },
  {
   "cell_type": "code",
   "execution_count": 144,
   "id": "ea5d7a74",
   "metadata": {},
   "outputs": [],
   "source": [
    "#Normalize the data so that data is in range 0-1"
   ]
  },
  {
   "cell_type": "code",
   "execution_count": 145,
   "id": "14064fd0",
   "metadata": {},
   "outputs": [],
   "source": [
    "x_train2=x_train1/255.0\n",
    "x_test2=x_test1/255.0"
   ]
  },
  {
   "cell_type": "code",
   "execution_count": 146,
   "id": "5bcd1301",
   "metadata": {},
   "outputs": [
    {
     "data": {
      "text/plain": [
       "((60000, 784), (10000, 784))"
      ]
     },
     "execution_count": 146,
     "metadata": {},
     "output_type": "execute_result"
    }
   ],
   "source": [
    "x_train2.shape,x_test2.shape"
   ]
  },
  {
   "cell_type": "code",
   "execution_count": 147,
   "id": "af2681ea",
   "metadata": {},
   "outputs": [],
   "source": [
    "# One-hot encode the class vector"
   ]
  },
  {
   "cell_type": "code",
   "execution_count": 148,
   "id": "76b1ce1b",
   "metadata": {},
   "outputs": [],
   "source": [
    "from tensorflow.keras.utils import to_categorical#Converts a class label (integers) to binary class matrix.\n",
    "y_train2=to_categorical(y_train,num_classes=10)\n",
    "y_test2=to_categorical(y_test,num_classes=10)"
   ]
  },
  {
   "cell_type": "code",
   "execution_count": 149,
   "id": "e7d86924",
   "metadata": {},
   "outputs": [
    {
     "name": "stdout",
     "output_type": "stream",
     "text": [
      "0\n"
     ]
    },
    {
     "data": {
      "text/plain": [
       "array([1., 0., 0., 0., 0., 0., 0., 0., 0., 0.], dtype=float32)"
      ]
     },
     "execution_count": 149,
     "metadata": {},
     "output_type": "execute_result"
    }
   ],
   "source": [
    "print(y_train[1])\n",
    "y_train2[1]# 0 will be denoted in the below foramt"
   ]
  },
  {
   "cell_type": "code",
   "execution_count": 150,
   "id": "65b2c6ce",
   "metadata": {},
   "outputs": [],
   "source": [
    "#Model Building"
   ]
  },
  {
   "cell_type": "code",
   "execution_count": 151,
   "id": "b26801b1",
   "metadata": {},
   "outputs": [],
   "source": [
    "from tensorflow.keras.models import Sequential\n",
    "from tensorflow.keras.layers import Dense, Flatten, Dropout\n",
    "from tensorflow.keras import regularizers, optimizers"
   ]
  },
  {
   "cell_type": "code",
   "execution_count": 152,
   "id": "0228a5ea",
   "metadata": {},
   "outputs": [],
   "source": [
    "def train_test_model(iterations,Learning_rate,Lambda):\n",
    "    iterations=iterations\n",
    "    lr=Learning_rate\n",
    "    lamda=Lambda\n",
    "    model=Sequential() #defined the model\n",
    "    model.add(Flatten())#Flattens the input.\n",
    "    model.add(Dense(units=128,activation='relu',input_shape=(784,)))\n",
    "    model.add(Dense(units=64,activation='relu'))\n",
    "    model.add(Dense(units=32,activation='relu'))\n",
    "    model.add(Dense(units=10,activation='softmax',kernel_regularizer=regularizers.l2(lamda)))\n",
    "    sgd=optimizers.SGD(lr)\n",
    "    model.compile(optimizer=sgd,loss='categorical_crossentropy', metrics=['accuracy'])\n",
    "    model.fit(x_train2,y_train2,batch_size=1000,epochs=iterations,verbose=0)\n",
    "    print(model.evaluate(x_train2,y_train2))\n",
    "    print(model.evaluate(x_test2,y_test2))"
   ]
  },
  {
   "cell_type": "code",
   "execution_count": 153,
   "id": "de6280ea",
   "metadata": {},
   "outputs": [],
   "source": [
    "#Lambda(Regularization)"
   ]
  },
  {
   "cell_type": "code",
   "execution_count": 154,
   "id": "bce5bdfc",
   "metadata": {},
   "outputs": [
    {
     "name": "stdout",
     "output_type": "stream",
     "text": [
      "1875/1875 [==============================] - 5s 3ms/step - loss: 0.6502 - accuracy: 0.7821\n",
      "[0.6502208113670349, 0.7821333408355713]\n",
      "313/313 [==============================] - 2s 4ms/step - loss: 0.6687 - accuracy: 0.7709: 0s - loss: 0.670\n",
      "[0.6687406897544861, 0.7709000110626221]\n"
     ]
    }
   ],
   "source": [
    "Learning_rate=0.001\n",
    "Lambda=0\n",
    "train_test_model(100,Learning_rate,Lambda)"
   ]
  },
  {
   "cell_type": "code",
   "execution_count": 155,
   "id": "e74294d0",
   "metadata": {},
   "outputs": [],
   "source": [
    "# we can change the values of learning rate and lambda to aquire the best accuracy and low loss"
   ]
  },
  {
   "cell_type": "code",
   "execution_count": 158,
   "id": "2be9e945",
   "metadata": {},
   "outputs": [],
   "source": [
    "##Coarse tune"
   ]
  },
  {
   "cell_type": "code",
   "execution_count": 159,
   "id": "13eb9174",
   "metadata": {},
   "outputs": [
    {
     "name": "stdout",
     "output_type": "stream",
     "text": [
      "1875/1875 [==============================] - 5s 2ms/step - loss: 11.4759 - accuracy: 0.1000\n",
      "[11.475930213928223, 0.10000000149011612]\n",
      "313/313 [==============================] - 1s 3ms/step - loss: 11.4759 - accuracy: 0.1000\n",
      "[11.475929260253906, 0.10000000149011612]\n",
      "k: 1\n",
      "epocs: 50\n",
      "Learning_rate (Alpha ): 46.626490521617406\n",
      "Regularization (Lambda): 0.00030560442368064846\n",
      "\n",
      "\n",
      "1875/1875 [==============================] - 6s 3ms/step - loss: 2.2694 - accuracy: 0.1435\n",
      "[2.2693848609924316, 0.14354999363422394]\n",
      "313/313 [==============================] - 2s 4ms/step - loss: 2.2720 - accuracy: 0.1452\n",
      "[2.2719531059265137, 0.1451999992132187]\n",
      "k: 2\n",
      "epocs: 50\n",
      "Learning_rate (Alpha ): 1.038203005986979e-05\n",
      "Regularization (Lambda): 0.0015799983259413553\n",
      "\n",
      "\n",
      "1875/1875 [==============================] - 6s 3ms/step - loss: 2.3055 - accuracy: 0.1164\n",
      "[2.3055124282836914, 0.11641667038202286]\n",
      "313/313 [==============================] - 2s 4ms/step - loss: 2.3040 - accuracy: 0.1148\n",
      "[2.3039638996124268, 0.11479999870061874]\n",
      "k: 3\n",
      "epocs: 50\n",
      "Learning_rate (Alpha ): 1.9572565193930777e-06\n",
      "Regularization (Lambda): 2.2937646451026086e-05\n",
      "\n",
      "\n",
      "1875/1875 [==============================] - 6s 3ms/step - loss: 2.3775 - accuracy: 0.1084\n",
      "[2.3775460720062256, 0.10836666822433472]\n",
      "313/313 [==============================] - 2s 4ms/step - loss: 2.3744 - accuracy: 0.1135\n",
      "[2.374364137649536, 0.11349999904632568]\n",
      "k: 4\n",
      "epocs: 50\n",
      "Learning_rate (Alpha ): 1.7945671452501168e-06\n",
      "Regularization (Lambda): 2.6197447765656777e-06\n",
      "\n",
      "\n",
      "1875/1875 [==============================] - 6s 3ms/step - loss: 1.6454 - accuracy: 0.5172\n",
      "[1.645389199256897, 0.5171999931335449]\n",
      "313/313 [==============================] - 2s 4ms/step - loss: 1.6531 - accuracy: 0.5144\n",
      "[1.6531147956848145, 0.5144000053405762]\n",
      "k: 5\n",
      "epocs: 50\n",
      "Learning_rate (Alpha ): 0.00020773952556166772\n",
      "Regularization (Lambda): 3.405124090354322e-07\n",
      "\n",
      "\n",
      "1875/1875 [==============================] - 6s 3ms/step - loss: 2.3259 - accuracy: 0.1160\n",
      "[2.325916290283203, 0.11599999666213989]\n",
      "313/313 [==============================] - 2s 4ms/step - loss: 2.3273 - accuracy: 0.1155\n",
      "[2.3272604942321777, 0.11550000309944153]\n",
      "k: 6\n",
      "epocs: 50\n",
      "Learning_rate (Alpha ): 4.1045417200604757e-07\n",
      "Regularization (Lambda): 1.3367168312683722e-07\n",
      "\n",
      "\n",
      "1875/1875 [==============================] - 6s 3ms/step - loss: nan - accuracy: 0.1000\n",
      "[nan, 0.10000000149011612]\n",
      "313/313 [==============================] - 2s 4ms/step - loss: nan - accuracy: 0.1000\n",
      "[nan, 0.10000000149011612]\n",
      "k: 7\n",
      "epocs: 50\n",
      "Learning_rate (Alpha ): 12.854763588113881\n",
      "Regularization (Lambda): 0.0029353622535635707\n",
      "\n",
      "\n",
      "1875/1875 [==============================] - 6s 3ms/step - loss: 163913328697125371904.0000 - accuracy: 0.1000\n",
      "[1.6391332869712537e+20, 0.10000000149011612]\n",
      "313/313 [==============================] - 2s 4ms/step - loss: 163913099998706794496.0000 - accuracy: 0.1000\n",
      "[1.639130999987068e+20, 0.10000000149011612]\n",
      "k: 8\n",
      "epocs: 50\n",
      "Learning_rate (Alpha ): 0.5241846035836998\n",
      "Regularization (Lambda): 0.00012550073715048883\n",
      "\n",
      "\n",
      "1875/1875 [==============================] - 5s 3ms/step - loss: 2.2701 - accuracy: 0.1698\n",
      "[2.2701172828674316, 0.16983333230018616]\n",
      "313/313 [==============================] - 2s 4ms/step - loss: 2.2715 - accuracy: 0.1679\n",
      "[2.2714743614196777, 0.1678999960422516]\n",
      "k: 9\n",
      "epocs: 50\n",
      "Learning_rate (Alpha ): 1.2194485453148689e-05\n",
      "Regularization (Lambda): 0.00016064710577361107\n",
      "\n",
      "\n"
     ]
    }
   ],
   "source": [
    "import math\n",
    "for k in range(1,10):\n",
    "    Learning_rate=math.pow(10, np.random.uniform(-7.0, 3.0))\n",
    "    Lambda=math.pow(10, np.random.uniform(-7,-2))\n",
    "    best_acc=train_test_model(50,Learning_rate,Lambda)\n",
    "    print('k:',k)\n",
    "    print('epocs:',50)\n",
    "    #print('accuracy:',best_acc)\n",
    "    print('Learning_rate (Alpha ):',Learning_rate)\n",
    "    print('Regularization (Lambda):',Lambda)\n",
    "    print()\n",
    "    print()"
   ]
  },
  {
   "cell_type": "code",
   "execution_count": 160,
   "id": "b6b12236",
   "metadata": {},
   "outputs": [],
   "source": [
    "#Keras Tuner"
   ]
  },
  {
   "cell_type": "code",
   "execution_count": 161,
   "id": "d2a71ddc",
   "metadata": {},
   "outputs": [],
   "source": [
    "def run_finer_tune_model(learning_rate,activation, dropout_rate,initializer,num_unit):\n",
    "    model = Sequential()\n",
    "    model.add(Dense(num_unit, kernel_initializer=initializer,activation=activation, input_shape=(784,)))\n",
    "    model.add(Dropout(dropout_rate))\n",
    "    model.add(Dense(num_unit, kernel_initializer=initializer,activation=activation))\n",
    "    model.add(Dropout(dropout_rate)) \n",
    "    model.add(Dense(10, activation='softmax'))\n",
    "    sgd = optimizers.SGD(lr=learning_rate)\n",
    "    model.compile(loss='categorical_crossentropy',optimizer=sgd,metrics=['accuracy'])\n",
    "    return model"
   ]
  },
  {
   "cell_type": "code",
   "execution_count": 162,
   "id": "708027a7",
   "metadata": {},
   "outputs": [],
   "source": [
    "learning_rate = [0.1, 0.001, 0.02][:1]\n",
    "activation = ['relu', 'tanh', 'sigmoid', 'hard_sigmoid', 'linear'][:1]\n",
    "dropout_rate = [0.3, 0.2, 0.8][:1]\n",
    "initializer = ['lecun_uniform', 'normal', 'he_normal', 'he_uniform'][:1]\n",
    "num_unit = [10, 5][:1]\n",
    "batch_size = [20, 50, 100][:1]\n",
    "epochs = [1, 20, 50][:1]"
   ]
  },
  {
   "cell_type": "code",
   "execution_count": 163,
   "id": "3e228c8c",
   "metadata": {},
   "outputs": [],
   "source": [
    "parameters = dict(batch_size = batch_size,\n",
    "                  epochs = epochs,\n",
    "                  learning_rate=learning_rate,\n",
    "                  dropout_rate = dropout_rate,\n",
    "                  num_unit = num_unit,\n",
    "                  initializer = initializer,\n",
    "                  activation = activation)"
   ]
  },
  {
   "cell_type": "code",
   "execution_count": 164,
   "id": "e55549f8",
   "metadata": {},
   "outputs": [],
   "source": [
    "model =tf.keras.wrappers.scikit_learn.KerasClassifier(build_fn=run_finer_tune_model, verbose=0)"
   ]
  },
  {
   "cell_type": "code",
   "execution_count": 165,
   "id": "70520461",
   "metadata": {},
   "outputs": [],
   "source": [
    "from sklearn.model_selection import GridSearchCV\n",
    "models = GridSearchCV(estimator = model, param_grid=parameters, n_jobs=1)"
   ]
  },
  {
   "cell_type": "code",
   "execution_count": 166,
   "id": "3c48a86c",
   "metadata": {},
   "outputs": [
    {
     "data": {
      "text/plain": [
       "(60000, 28, 28)"
      ]
     },
     "execution_count": 166,
     "metadata": {},
     "output_type": "execute_result"
    }
   ],
   "source": [
    "x_train.shape"
   ]
  },
  {
   "cell_type": "code",
   "execution_count": 167,
   "id": "880e1a3f",
   "metadata": {},
   "outputs": [
    {
     "data": {
      "text/plain": [
       "(60000,)"
      ]
     },
     "execution_count": 167,
     "metadata": {},
     "output_type": "execute_result"
    }
   ],
   "source": [
    "y_train.shape"
   ]
  },
  {
   "cell_type": "code",
   "execution_count": 168,
   "id": "2eca4454",
   "metadata": {},
   "outputs": [
    {
     "name": "stdout",
     "output_type": "stream",
     "text": [
      "Best model : {'activation': 'relu', 'batch_size': 20, 'dropout_rate': 0.3, 'epochs': 1, 'initializer': 'lecun_uniform', 'learning_rate': 0.1, 'num_unit': 10}\n"
     ]
    }
   ],
   "source": [
    "best_model = models.fit(x_train2,y_train2)\n",
    "print('Best model :',best_model.best_params_)"
   ]
  },
  {
   "cell_type": "code",
   "execution_count": null,
   "id": "c6090327",
   "metadata": {},
   "outputs": [],
   "source": [
    "#--------------------------------------------END-------------------------------------------------------------------#"
   ]
  }
 ],
 "metadata": {
  "kernelspec": {
   "display_name": "Python 3",
   "language": "python",
   "name": "python3"
  },
  "language_info": {
   "codemirror_mode": {
    "name": "ipython",
    "version": 3
   },
   "file_extension": ".py",
   "mimetype": "text/x-python",
   "name": "python",
   "nbconvert_exporter": "python",
   "pygments_lexer": "ipython3",
   "version": "3.6.13"
  }
 },
 "nbformat": 4,
 "nbformat_minor": 5
}
